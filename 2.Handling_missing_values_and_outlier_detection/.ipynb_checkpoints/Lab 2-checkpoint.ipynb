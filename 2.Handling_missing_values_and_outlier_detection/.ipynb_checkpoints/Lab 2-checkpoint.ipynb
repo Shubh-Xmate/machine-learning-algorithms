{
 "cells": [
  {
   "cell_type": "code",
   "execution_count": 25,
   "id": "f1db1a99",
   "metadata": {},
   "outputs": [
    {
     "data": {
      "image/png": "[encoded data removed]",
      "text/plain": [
       "<Figure size 432x288 with 1 Axes>"
      ]
     },
     "metadata": {
      "needs_background": "light"
     },
     "output_type": "display_data"
    }
   ],
   "source": [
    "\"\"\"Question 1\"\"\"\n",
    "\n",
    "# importing important packages\n",
    "import pandas as pd\n",
    "import matplotlib.pyplot as plt\n",
    "\n",
    "# reading csv data \n",
    "df = pd.read_csv('landslide_data3_miss.csv')\n",
    "\n",
    "# Creating the series data for missing values according to attributes\n",
    "missing_values = df.isnull().sum()\n",
    "\n",
    "# plotting the bar graph for the missing data according to attributes using series data obtained above\n",
    "plt.bar(missing_values.index, missing_values.values, color = 'g')\n",
    "plt.xticks(rotation = 60)\n",
    "plt.show()"
   ]
  },
  {
   "cell_type": "code",
   "execution_count": 1,
   "id": "bce13361",
   "metadata": {
    "scrolled": false
   },
   "outputs": [
    {
     "name": "stdout",
     "output_type": "stream",
     "text": [
      "Total number of rows dropped is :  19\n",
      "\n",
      "\n",
      "The data having equal to or more than one third of attributes with missing values : \n",
      "          dates stationid  temperature  humidity     pressure      rain  \\\n",
      "34   16-08-2018       t10          NaN       NaN          NaN       NaN   \n",
      "37   19-08-2018       t10     23.34058       NaN          NaN       NaN   \n",
      "42   24-08-2018       t10     21.92199  99.00000          NaN       NaN   \n",
      "49   31-08-2018       t10     22.52143  99.00000          NaN       NaN   \n",
      "50   01-09-2018       t10          NaN       NaN          NaN       NaN   \n",
      "61   12-09-2018       t10     22.29927  97.23358  1013.544526     87.75   \n",
      "63   14-09-2018       t10     20.84211  98.14286  1015.972932       NaN   \n",
      "66   17-09-2018       t10          NaN  90.54545          NaN      0.00   \n",
      "81   02-10-2018       t10          NaN       NaN          NaN       NaN   \n",
      "93   14-10-2018       t10     18.40714  82.82857          NaN       NaN   \n",
      "95   16-10-2018       t10          NaN       NaN          NaN      0.00   \n",
      "136  11-07-2018       t11          NaN       NaN          NaN       NaN   \n",
      "244  07-09-2018       t12          NaN       NaN          NaN       NaN   \n",
      "253  16-09-2018       t12          NaN       NaN          NaN       NaN   \n",
      "367  06-07-2018       t14          NaN  67.31646   899.208797  80000.00   \n",
      "368  07-07-2018       t14          NaN       NaN          NaN  80000.00   \n",
      "369  08-07-2018       t14          NaN       NaN          NaN  80000.00   \n",
      "370  09-07-2018       t14          NaN       NaN          NaN  80000.00   \n",
      "456  29-07-2018       t15          NaN       NaN          NaN       NaN   \n",
      "457  30-07-2018       t15          NaN       NaN          NaN       NaN   \n",
      "458  31-07-2018       t15          NaN       NaN          NaN       NaN   \n",
      "459  01-08-2018       t15          NaN       NaN          NaN       NaN   \n",
      "460  02-08-2018       t15          NaN       NaN          NaN       NaN   \n",
      "461  03-08-2018       t15          NaN       NaN          NaN       NaN   \n",
      "463  05-08-2018       t15          NaN       NaN          NaN       NaN   \n",
      "465  07-08-2018       t15     21.35000       NaN          NaN       NaN   \n",
      "471  13-08-2018       t15          NaN       NaN          NaN       NaN   \n",
      "479  21-08-2018       t15          NaN       NaN          NaN       NaN   \n",
      "480  22-08-2018       t15          NaN       NaN          NaN       NaN   \n",
      "481  23-08-2018       t15          NaN       NaN          NaN       NaN   \n",
      "482  24-08-2018       t15          NaN       NaN          NaN       NaN   \n",
      "483  25-08-2018       t15          NaN       NaN          NaN       NaN   \n",
      "771  18-10-2018        t8          NaN       NaN          NaN       NaN   \n",
      "784  31-10-2018        t8          NaN       NaN          NaN       NaN   \n",
      "869  11-09-2018        t9          NaN       NaN          NaN  18373.50   \n",
      "\n",
      "     lightavgw/o0  lightmax  moisture  \n",
      "34      4237.6709       NaN       NaN  \n",
      "37            NaN       NaN       NaN  \n",
      "42            NaN       NaN       NaN  \n",
      "49            NaN       NaN   23.4929  \n",
      "50      2844.4684   12538.0   24.1053  \n",
      "61            NaN       NaN       NaN  \n",
      "63            NaN       NaN       NaN  \n",
      "66            NaN   11103.0       NaN  \n",
      "81      5882.7260   54612.0    0.1079  \n",
      "93            NaN   54612.0    0.0071  \n",
      "95      6855.3286   54612.0    0.0145  \n",
      "136     2254.2024   54612.0    5.7746  \n",
      "244           NaN   54612.0    6.1643  \n",
      "253           NaN       NaN    5.6127  \n",
      "367           NaN       NaN       NaN  \n",
      "368           NaN       NaN       NaN  \n",
      "369           NaN       NaN       NaN  \n",
      "370       20.8400    4000.0   14.3361  \n",
      "456           NaN       NaN       NaN  \n",
      "457           NaN       NaN       NaN  \n",
      "458           NaN       NaN       NaN  \n",
      "459           NaN       NaN       NaN  \n",
      "460           NaN       NaN       NaN  \n",
      "461           NaN       NaN       NaN  \n",
      "463           NaN       NaN       NaN  \n",
      "465           NaN       NaN       NaN  \n",
      "471           NaN       NaN       NaN  \n",
      "479           NaN       NaN       NaN  \n",
      "480           NaN       NaN       NaN  \n",
      "481           NaN       NaN       NaN  \n",
      "482           NaN       NaN       NaN  \n",
      "483           NaN       NaN       NaN  \n",
      "771           NaN       NaN   87.1079  \n",
      "784           NaN       NaN       NaN  \n",
      "869      483.6400    4000.0   99.1367  \n",
      "\n",
      "\n",
      "Count of the values which are missing corresponding to attributes : \n",
      "dates            0\n",
      "stationid        0\n",
      "temperature     34\n",
      "humidity        13\n",
      "pressure        41\n",
      "rain             6\n",
      "lightavgw/o0    15\n",
      "lightmax         1\n",
      "moisture         6\n",
      "dtype: int64\n",
      "\n",
      "\n",
      "Sum of total missing values in the current data :  116\n"
     ]
    }
   ],
   "source": [
    "\"\"\"Question 2\"\"\"\n",
    "\n",
    "# importing the important packages\n",
    "import pandas as pd\n",
    "import numpy as np\n",
    "\n",
    "# reading csv file\n",
    "df = pd.read_csv('landslide_data3_miss.csv')\n",
    "\n",
    "\"\"\"Part (a)\"\"\"\n",
    "\n",
    "# storing initial no of rows\n",
    "initial_rows = df.shape[0]\n",
    "\n",
    "# dropping the nan values of stationid attribute\n",
    "df = df.dropna(subset=['stationid'])\n",
    "\n",
    "# Storing the final no of rows\n",
    "final_rows = df.shape[0]\n",
    "\n",
    "# by substracting the initial no of rows with initial no of rows we get total no of rows dropped\n",
    "# hence printing it\n",
    "print(\"Total number of rows dropped is : \", initial_rows - final_rows)\n",
    "\n",
    "\"\"\"Part (b)\"\"\"\n",
    "\n",
    "# creating list variable to store the deleted row data \n",
    "drop_list = list()\n",
    "\n",
    "# iterating through the dataframe to store the specified row\n",
    "for i in df.index:\n",
    "    if(df.loc[i].isnull().sum() >= len(df.columns)/3):\n",
    "        # appending the row to be deleted\n",
    "        drop_list.append(df.loc[i])\n",
    "        # deleting the row\n",
    "        df = df.drop([i], axis = 0)\n",
    "\n",
    "# printing the data we get\n",
    "\n",
    "print(\"\\n\\nThe data having equal to or more than one third of attributes with missing values : \")\n",
    "# making the dropped list data to a dataframe to for better representation\n",
    "dropped_data = pd.DataFrame(drop_list)\n",
    "print(dropped_data)\n",
    "\n",
    "'''Question 3'''\n",
    "\n",
    "# Creating a series of the missing data values by attribute\n",
    "print(\"\\n\\nCount of the values which are missing corresponding to attributes : \")\n",
    "missing_series = df.isnull().sum()\n",
    "print(missing_series)\n",
    "\n",
    "# printing the sum of the total values of the obtained series\n",
    "print(\"\\n\\nSum of total missing values in the current data : \", sum(missing_series.values))"
   ]
  },
  {
   "cell_type": "code",
   "execution_count": 47,
   "id": "374d5963",
   "metadata": {},
   "outputs": [],
   "source": [
    "'''HTA'''\n",
    "\n",
    "# import numpy as np\n",
    "# count_drop = 0;\n",
    "# for i in df.index:\n",
    "#     print(\"i : \", df.loc[i, 'stationid'])\n",
    "#     print(df.loc[i, 'stationid'] == np.nan)\n",
    "#     if(df.loc[i, 'stationid'] in ['NaN', 'nan', 'Nan', 'NA', 'n/a', 'NULL', 'null', np.nan]):\n",
    "#         print('yes')\n",
    "#         df = df.drop(i, axis = 0)\n",
    "#         count_drop += 1;\n",
    "# print(count_drop)"
   ]
  },
  {
   "cell_type": "code",
   "execution_count": 23,
   "id": "9681796f",
   "metadata": {
    "scrolled": false
   },
   "outputs": [
    {
     "name": "stdout",
     "output_type": "stream",
     "text": [
      "Statistical data filling with mean values in missing data : \n",
      "\n",
      "                      Mean       Median         Mode           Std\n",
      "temperature      21.056281    21.786720    21.056281      4.259003\n",
      "humidity         83.184940    90.173155         99.0     18.079405\n",
      "pressure       1009.349023  1014.087140  1009.349023     45.126488\n",
      "rain          11080.656786    22.500000          0.0  24788.305582\n",
      "lightavgw/o0   4448.525200  1838.019050    4488.9103   7464.664825\n",
      "lightmax      21587.283648  7186.000000       4000.0  21681.797060\n",
      "moisture         32.499332    17.709150          0.0     33.285455\n",
      "\n",
      "Statistical data of the original dataframe : \n",
      "\n",
      "                      Mean       Median        Mode           Std\n",
      "temperature      21.214888    22.272730    12.72727      4.355818\n",
      "humidity         83.479932    91.380950        99.0     18.210065\n",
      "pressure       1009.008774  1014.677832  789.392692     46.980477\n",
      "rain          10701.538370    18.000000         0.0  24852.255288\n",
      "lightavgw/o0   4438.428453  1656.880000   4488.9103   7573.162806\n",
      "lightmax      21788.623280  6634.000000      4000.0  22064.993089\n",
      "moisture         32.386053    16.704200         0.0     33.653245\n",
      "\n",
      "\n",
      "The RMSE values of different attribute : \n",
      "\n",
      "temperature 3.7438546982030707\n",
      "humidity 13.60766261157217\n",
      "pressure 28.63015375582966\n",
      "rain 19460.44809591623\n",
      "lightavgw/o0 7432.400972639529\n",
      "lightmax 23570.128102492083\n",
      "moisture 22.23070937663355\n"
     ]
    },
    {
     "data": {
      "image/png": "[encoded data removed]",
      "text/plain": [
       "<Figure size 432x288 with 1 Axes>"
      ]
     },
     "metadata": {
      "needs_background": "light"
     },
     "output_type": "display_data"
    },
    {
     "name": "stdout",
     "output_type": "stream",
     "text": [
      "\n",
      "Statistical data after using linear interpolation : \n",
      "\n",
      "                      Mean       Median        Mode           Std\n",
      "temperature      21.174437    22.158513    12.72727      4.345866\n",
      "humidity         83.414989    91.367460        99.0     18.303153\n",
      "pressure       1009.733066  1014.685202  789.392692     45.428094\n",
      "rain          10836.054951    19.687500         0.0  24985.627551\n",
      "lightavgw/o0   4521.710031  1579.859550   4488.9103   7634.951665\n",
      "lightmax      21529.659287  6569.000000      4000.0  21913.421834\n",
      "moisture         32.166688    16.220350         0.0     33.472732\n",
      "\n",
      "Statistical data of the original dataframe : \n",
      "\n",
      "                      Mean       Median        Mode           Std\n",
      "temperature      21.214888    22.272730    12.72727      4.355818\n",
      "humidity         83.479932    91.380950        99.0     18.210065\n",
      "pressure       1009.008774  1014.677832  789.392692     46.980477\n",
      "rain          10701.538370    18.000000         0.0  24852.255288\n",
      "lightavgw/o0   4438.428453  1656.880000   4488.9103   7573.162806\n",
      "lightmax      21788.623280  6634.000000      4000.0  22064.993089\n",
      "moisture         32.386053    16.704200         0.0     33.653245\n",
      "\n",
      "\n",
      "The RMSE values of different attribute : \n",
      "\n",
      "temperature 1.7674484494600269\n",
      "humidity 4.152695007454409\n",
      "pressure 12.943492577019985\n",
      "rain 6884.066880578046\n",
      "lightavgw/o0 6541.299810910344\n",
      "lightmax 26260.756097409663\n",
      "moisture 7.263997868801488\n"
     ]
    },
    {
     "data": {
      "image/png": "[encoded data removed]",
      "text/plain": [
       "<Figure size 432x288 with 1 Axes>"
      ]
     },
     "metadata": {
      "needs_background": "light"
     },
     "output_type": "display_data"
    },
    {
     "name": "stdout",
     "output_type": "stream",
     "text": [
      "\n",
      "Temperature Outliers are : \n",
      "\n",
      "{509: 7.6729, 510: 7.6729, 511: 7.6729, 512: 7.6729, 513: 7.6729, 514: 7.6729, 515: 7.6729, 516: 7.6729, 517: 7.6729, 518: 7.6729}\n",
      "\n",
      "Rain Outliers are : \n",
      "\n",
      "{135: 13583.25, 136: 6791.625, 199: 15459.75, 200: 14001.75, 201: 16571.25, 206: 13666.5, 322: 59982.75, 323: 80000.0, 324: 75048.75, 367: 80000.0, 368: 80000.0, 369: 80000.0, 370: 80000.0, 630: 3930.5, 631: 36636.75, 632: 40789.0, 636: 63256.5, 637: 54616.5, 638: 50172.75, 693: 37928.25, 694: 26178.75, 696: 3138.75, 697: 3449.25, 699: 18884.25, 702: 9765.0, 704: 18976.5, 705: 30393.0, 711: 2814.75, 742: 80000.0, 743: 82037.25, 744: 56319.75, 748: 71968.5, 749: 80000.0, 750: 80000.0, 751: 50242.5, 752: 80000.0, 753: 80000.0, 754: 80000.0, 755: 80000.0, 756: 80000.0, 757: 80000.0, 758: 80000.0, 759: 80000.0, 760: 80000.0, 761: 80000.0, 762: 80000.0, 763: 80000.0, 764: 80000.0, 765: 80000.0, 766: 80000.0, 767: 80000.0, 768: 80000.0, 769: 80000.0, 770: 80000.0, 771: 80000.0, 772: 80000.0, 773: 80000.0, 774: 80000.0, 775: 80000.0, 776: 80000.0, 777: 80000.0, 778: 80000.0, 779: 80000.0, 780: 80000.0, 781: 80000.0, 782: 80000.0, 783: 60675.75, 784: 41463.0, 785: 22250.25, 788: 2637.0, 789: 80000.0, 790: 80000.0, 791: 80000.0, 792: 80000.0, 793: 80000.0, 794: 80000.0, 795: 80000.0, 796: 37392.75, 798: 49725.0, 799: 80000.0, 800: 80000.0, 801: 71154.0, 802: 80000.0, 803: 80000.0, 825: 12854.25, 826: 34879.5, 827: 4610.25, 828: 6210.0, 829: 10557.0, 831: 3451.5, 835: 3312.0, 836: 18285.75, 840: 3613.5, 841: 2893.5, 842: 23474.25, 843: 14042.25, 846: 3647.25, 847: 5877.0, 851: 10062.0, 853: 17997.75, 854: 29517.75, 855: 32514.75, 856: 13943.25, 857: 4212.0, 858: 4691.25, 859: 7519.5, 862: 11112.75, 863: 2821.5, 864: 33941.25, 865: 43643.25, 866: 20664.0, 867: 11144.25, 868: 18587.25, 869: 18373.5, 870: 15646.5, 871: 12915.0, 872: 49916.25, 873: 24522.75, 874: 75105.0, 875: 73417.5, 876: 70580.25, 877: 78126.75, 878: 56097.0, 879: 6061.5, 883: 38355.75, 884: 55509.75, 885: 43974.0, 886: 6747.75, 887: 54843.75, 888: 59377.5, 889: 58320.0, 890: 60963.75, 891: 63342.0, 892: 67378.5, 893: 70929.0, 894: 73158.75, 895: 71367.75, 896: 73838.25, 897: 46732.5, 898: 48429.0, 899: 67830.75, 900: 75447.0, 901: 74646.0, 902: 75402.0, 903: 75723.75, 904: 74254.5, 905: 75201.75, 906: 77044.5, 907: 74472.75, 908: 77503.5, 909: 78180.75, 910: 79915.5, 911: 80583.75, 912: 80482.5, 913: 79337.25, 914: 79317.0, 915: 70823.25, 916: 75638.25, 917: 73752.75, 918: 65893.5, 919: 72774.0, 920: 7773.75, 923: 12037.5, 924: 79839.0, 925: 78633.0, 926: 78779.25, 927: 76662.0, 928: 67252.5, 929: 74913.75, 930: 4869.0, 931: 41618.25, 933: 58443.75, 934: 74173.5, 935: 72445.5, 936: 65873.25, 937: 67675.5, 938: 61989.75, 939: 71237.25, 940: 73577.25, 941: 65301.75, 942: 73534.5, 943: 72283.5, 944: 71799.75}\n"
     ]
    },
    {
     "data": {
      "image/png": "[encoded data removed]",
      "text/plain": [
       "<Figure size 432x288 with 1 Axes>"
      ]
     },
     "metadata": {
      "needs_background": "light"
     },
     "output_type": "display_data"
    },
    {
     "data": {
      "image/png": "[encoded data removed]",
      "text/plain": [
       "<Figure size 432x288 with 1 Axes>"
      ]
     },
     "metadata": {
      "needs_background": "light"
     },
     "output_type": "display_data"
    },
    {
     "data": {
      "image/png": "[encoded data removed]",
      "text/plain": [
       "<Figure size 432x288 with 1 Axes>"
      ]
     },
     "metadata": {
      "needs_background": "light"
     },
     "output_type": "display_data"
    },
    {
     "data": {
      "image/png": "[encoded data removed]",
      "text/plain": [
       "<Figure size 432x288 with 1 Axes>"
      ]
     },
     "metadata": {
      "needs_background": "light"
     },
     "output_type": "display_data"
    }
   ],
   "source": [
    "'''Question 4'''\n",
    "\n",
    "\"\"\"Part (a)\"\"\"\n",
    "# importing the important packages\n",
    "import pandas as pd\n",
    "import matplotlib.pyplot as plt\n",
    "import numpy as np\n",
    "\n",
    "# reading the csv file\n",
    "df = pd.read_csv('landslide_data3_miss.csv')\n",
    "df2 = pd.read_csv('landslide_data3_original.csv')\n",
    "\n",
    "# dropping the row which don't have stationid data\n",
    "df = df.dropna(subset=['stationid'])\n",
    "\n",
    "# Creating a series of mean data from dataframe for to fill in other non present values wrt attributes\n",
    "mean_data = df.mean()\n",
    "\n",
    "# filling the mean data \n",
    "for att in mean_data.index:\n",
    "    df[att] = df[att].fillna(mean_data[att])\n",
    "# Creating a function which will return the RMSE value for the passes attribute\n",
    "def RMSE_val(att):\n",
    "    Na = 0\n",
    "    sq_sum = 0;\n",
    "    for i in df.index:\n",
    "        if(df.loc[i, att] - df2.loc[i, att] != 0):\n",
    "            Na += 1;\n",
    "            sq_sum += pow(df.loc[i, att] - df2.loc[i, att], 2)\n",
    "    return pow(sq_sum/Na, 0.5)\n",
    "\n",
    "# creating a function which will return a dataframe of mean, median, mode and std from the passed dataframe\n",
    "def create_database(data):\n",
    "    mean_ = data.mean()\n",
    "    med_ = data.median()\n",
    "    mode_ = data.mode(); mode_ = mode_.iloc[0, 2:]\n",
    "    std_ = data.std()\n",
    "    statistical_data = pd.DataFrame({'Mean': mean_, 'Median': med_, 'Mode': mode_, 'Std': std_})\n",
    "    return statistical_data\n",
    "\n",
    "# printing the statistical dataframe for filled in dataframe with the original one\n",
    "print(\"Statistical data filling with mean values in missing data : \\n\")\n",
    "data1 = create_database(df);print(data1);\n",
    " \n",
    "print(\"\\nStatistical data of the original dataframe : \\n\")\n",
    "data2 = create_database(df2);print(data2)\n",
    "\n",
    "# Creating a list of attributes whose RMSE values is to found out\n",
    "RMSE_att = ['temperature', 'humidity', 'pressure', 'rain', 'lightavgw/o0', 'lightmax', 'moisture']\n",
    "\n",
    "# Creating a dictionary variable\n",
    "ind_dict = dict()\n",
    "\n",
    "# Plotting the graph for RMSE values\n",
    "plt.bar(ind_dict.keys(), ind_dict.values(), color = 'r')\n",
    "plt.xticks(rotation = 60)\n",
    "plt.show()\n",
    "\n",
    "\"\"\"Part (b)\"\"\"\n",
    "\n",
    "# again reading the data\n",
    "df = pd.read_csv('landslide_data3_miss.csv')\n",
    "df2 = pd.read_csv('landslide_data3_original.csv')\n",
    "\n",
    "# dropping rows for non found values of stationid\n",
    "df = df.dropna(subset=['stationid'])\n",
    "\n",
    "# filling the dataframe with linear interpolation\n",
    "df = df.interpolate(method = 'linear')\n",
    "\n",
    "# printing the statistical interplation data with the original one\n",
    "print(\"\\nStatistical data after using linear interpolation : \\n\")\n",
    "data1 = create_database(df);print(data1);\n",
    " \n",
    "print(\"\\nStatistical data of the original dataframe : \\n\")\n",
    "data2 = create_database(df2);print(data2)\n",
    "\n",
    "# Creating a dictionary variable\n",
    "ind_dict = dict()\n",
    "\n",
    "# Inputting the value of RMSE in dictionary\n",
    "print(\"\\n\\nThe RMSE values of different attribute : \\n\")\n",
    "for att in RMSE_att:\n",
    "    ind_dict[att] = RMSE_val(att)\n",
    "    print(att, RMSE_val(att))\n",
    "\n",
    "# Plotting the graph for RMSE values\n",
    "plt.bar(ind_dict.keys(), ind_dict.values(), color = 'r')\n",
    "plt.xticks(rotation = 60)\n",
    "plt.show()\n",
    "\n",
    "'''Question 5'''\n",
    "\n",
    "# making a series for the 1st, 2nd, 3rd quartile ranges of temperature and rain attribute\n",
    "temp_qurt = df['temperature'].quantile(q = [0.25, 0.50,  0.75])\n",
    "rain_qurt = df['rain'].quantile(q = [0.25, 0.50, 0.75])\n",
    "\n",
    "# creating dictionary to store outliers of temperature and rain attribute\n",
    "temp_outliers = dict()\n",
    "rain_outliers = dict()\n",
    "\n",
    "# iterating through the attribute's series to store temperature and rain attribute's outliers\n",
    "for i in df['temperature'].index:\n",
    "    val = df['temperature'][i]\n",
    "    if(val < (temp_qurt[0.25] - 1.5*(temp_qurt[0.75] - temp_qurt[0.25])) or val > (temp_qurt[0.75] + 1.5*(temp_qurt[0.75] - temp_qurt[0.25]))):\n",
    "        temp_outliers[i] = val\n",
    "for i in df['rain'].index:\n",
    "    val = df['rain'][i]\n",
    "    if(val < (rain_qurt[0.25] - 1.5*(rain_qurt[0.75] - rain_qurt[0.25])) or val > (rain_qurt[0.75] + 1.5*(rain_qurt[0.75] - rain_qurt[0.25]))):\n",
    "        rain_outliers[i] = val\n",
    "\n",
    "# printing the collected dictionary data\n",
    "print(\"\\nTemperature Outliers are : \\n\"); print(temp_outliers)\n",
    "print(\"\\nRain Outliers are : \\n\"); print(rain_outliers)\n",
    "\n",
    "# plotting the data \n",
    "plt.boxplot(df['temperature'])\n",
    "plt.title('Boxplot for temperature')\n",
    "plt.show()\n",
    "\n",
    "plt.boxplot(df['rain'])\n",
    "plt.title('Boxplot for rain')\n",
    "plt.show()\n",
    "\n",
    "# Changing outliers with the median of the data \n",
    "for i in df['temperature'].index:\n",
    "    val = df.loc[i, 'temperature']\n",
    "    if(val < (temp_qurt[0.25] - 1.5*(temp_qurt[0.75] - temp_qurt[0.25])) or val > (temp_qurt[0.75] + 1.5*(temp_qurt[0.75] - temp_qurt[0.25]))):\n",
    "        df.loc[i, 'temperature'] = temp_qurt[0.50]\n",
    "for i in df['rain'].index:\n",
    "    val = df.loc[i, 'rain']\n",
    "    if(val < (rain_qurt[0.25] - 1.5*(rain_qurt[0.75] - rain_qurt[0.25])) or val > (rain_qurt[0.75] + 1.5*(rain_qurt[0.75] - rain_qurt[0.25]))):\n",
    "        df.loc[i, 'rain'] = rain_qurt[0.50]\n",
    "        \n",
    "# Now again plotting the data\n",
    "plt.boxplot(df['temperature'])\n",
    "plt.title('Boxplot for temperature(after changing the outliers to median)')\n",
    "plt.show()\n",
    "\n",
    "plt.boxplot(df['rain'])\n",
    "plt.title('Boxplot for rain(after changing the outliers to median)')\n",
    "plt.show()"
   ]
  },
  {
   "cell_type": "code",
   "execution_count": 16,
   "id": "979bc317",
   "metadata": {
    "scrolled": false
   },
   "outputs": [
    {
     "name": "stdout",
     "output_type": "stream",
     "text": [
      "                      Mean       Median        Mode           Std\n",
      "temperature      21.174437    22.158513    12.72727      4.345866\n",
      "humidity         83.414989    91.367460        99.0     18.303153\n",
      "pressure       1009.733066  1014.685202  789.392692     45.428094\n",
      "rain          10836.054951    19.687500         0.0  24985.627551\n",
      "lightavgw/o0   4521.710031  1579.859550   4488.9103   7634.951665\n",
      "lightmax      21529.659287  6569.000000      4000.0  21913.421834\n",
      "moisture         32.166688    16.220350         0.0     33.472732\n",
      "\n",
      "\n",
      "\n",
      "                      Mean       Median        Mode           Std\n",
      "temperature      21.214888    22.272730    12.72727      4.355818\n",
      "humidity         83.479932    91.380950        99.0     18.210065\n",
      "pressure       1009.008774  1014.677832  789.392692     46.980477\n",
      "rain          10701.538370    18.000000         0.0  24852.255288\n",
      "lightavgw/o0   4438.428453  1656.880000   4488.9103   7573.162806\n",
      "lightmax      21788.623280  6634.000000      4000.0  22064.993089\n",
      "moisture         32.386053    16.704200         0.0     33.653245\n"
     ]
    },
    {
     "data": {
      "image/png": "[encoded data removed]",
      "text/plain": [
       "<Figure size 432x288 with 1 Axes>"
      ]
     },
     "metadata": {
      "needs_background": "light"
     },
     "output_type": "display_data"
    },
    {
     "name": "stdout",
     "output_type": "stream",
     "text": [
      "0.25       0.0000\n",
      "0.50      19.6875\n",
      "0.75    1042.8750\n",
      "Name: rain, dtype: float64\n",
      "\n",
      "Temperature Outliers are : \n",
      "\n",
      "Total outliers :  10\n",
      "{509: 7.6729, 510: 7.6729, 511: 7.6729, 512: 7.6729, 513: 7.6729, 514: 7.6729, 515: 7.6729, 516: 7.6729, 517: 7.6729, 518: 7.6729}\n",
      "\n",
      "Rain Outliers are : \n",
      "\n",
      "Total outliers :  183\n",
      "{135: 13583.25, 136: 6791.625, 199: 15459.75, 200: 14001.75, 201: 16571.25, 206: 13666.5, 322: 59982.75, 323: 80000.0, 324: 75048.75, 367: 80000.0, 368: 80000.0, 369: 80000.0, 370: 80000.0, 630: 3930.5, 631: 36636.75, 632: 40789.0, 636: 63256.5, 637: 54616.5, 638: 50172.75, 693: 37928.25, 694: 26178.75, 696: 3138.75, 697: 3449.25, 699: 18884.25, 702: 9765.0, 704: 18976.5, 705: 30393.0, 711: 2814.75, 742: 80000.0, 743: 82037.25, 744: 56319.75, 748: 71968.5, 749: 80000.0, 750: 80000.0, 751: 50242.5, 752: 80000.0, 753: 80000.0, 754: 80000.0, 755: 80000.0, 756: 80000.0, 757: 80000.0, 758: 80000.0, 759: 80000.0, 760: 80000.0, 761: 80000.0, 762: 80000.0, 763: 80000.0, 764: 80000.0, 765: 80000.0, 766: 80000.0, 767: 80000.0, 768: 80000.0, 769: 80000.0, 770: 80000.0, 771: 80000.0, 772: 80000.0, 773: 80000.0, 774: 80000.0, 775: 80000.0, 776: 80000.0, 777: 80000.0, 778: 80000.0, 779: 80000.0, 780: 80000.0, 781: 80000.0, 782: 80000.0, 783: 60675.75, 784: 41463.0, 785: 22250.25, 788: 2637.0, 789: 80000.0, 790: 80000.0, 791: 80000.0, 792: 80000.0, 793: 80000.0, 794: 80000.0, 795: 80000.0, 796: 37392.75, 798: 49725.0, 799: 80000.0, 800: 80000.0, 801: 71154.0, 802: 80000.0, 803: 80000.0, 825: 12854.25, 826: 34879.5, 827: 4610.25, 828: 6210.0, 829: 10557.0, 831: 3451.5, 835: 3312.0, 836: 18285.75, 840: 3613.5, 841: 2893.5, 842: 23474.25, 843: 14042.25, 846: 3647.25, 847: 5877.0, 851: 10062.0, 853: 17997.75, 854: 29517.75, 855: 32514.75, 856: 13943.25, 857: 4212.0, 858: 4691.25, 859: 7519.5, 862: 11112.75, 863: 2821.5, 864: 33941.25, 865: 43643.25, 866: 20664.0, 867: 11144.25, 868: 18587.25, 869: 18373.5, 870: 15646.5, 871: 12915.0, 872: 49916.25, 873: 24522.75, 874: 75105.0, 875: 73417.5, 876: 70580.25, 877: 78126.75, 878: 56097.0, 879: 6061.5, 883: 38355.75, 884: 55509.75, 885: 43974.0, 886: 6747.75, 887: 54843.75, 888: 59377.5, 889: 58320.0, 890: 60963.75, 891: 63342.0, 892: 67378.5, 893: 70929.0, 894: 73158.75, 895: 71367.75, 896: 73838.25, 897: 46732.5, 898: 48429.0, 899: 67830.75, 900: 75447.0, 901: 74646.0, 902: 75402.0, 903: 75723.75, 904: 74254.5, 905: 75201.75, 906: 77044.5, 907: 74472.75, 908: 77503.5, 909: 78180.75, 910: 79915.5, 911: 80583.75, 912: 80482.5, 913: 79337.25, 914: 79317.0, 915: 70823.25, 916: 75638.25, 917: 73752.75, 918: 65893.5, 919: 72774.0, 920: 7773.75, 923: 12037.5, 924: 79839.0, 925: 78633.0, 926: 78779.25, 927: 76662.0, 928: 67252.5, 929: 74913.75, 930: 4869.0, 931: 41618.25, 933: 58443.75, 934: 74173.5, 935: 72445.5, 936: 65873.25, 937: 67675.5, 938: 61989.75, 939: 71237.25, 940: 73577.25, 941: 65301.75, 942: 73534.5, 943: 72283.5, 944: 71799.75}\n"
     ]
    },
    {
     "data": {
      "image/png": "[encoded data removed]",
      "text/plain": [
       "<Figure size 432x288 with 1 Axes>"
      ]
     },
     "metadata": {
      "needs_background": "light"
     },
     "output_type": "display_data"
    },
    {
     "data": {
      "image/png": "[encoded data removed]",
      "text/plain": [
       "<Figure size 432x288 with 1 Axes>"
      ]
     },
     "metadata": {
      "needs_background": "light"
     },
     "output_type": "display_data"
    },
    {
     "data": {
      "image/png": "[encoded data removed]",
      "text/plain": [
       "<Figure size 432x288 with 1 Axes>"
      ]
     },
     "metadata": {
      "needs_background": "light"
     },
     "output_type": "display_data"
    },
    {
     "data": {
      "image/png": "[encoded data removed]",
      "text/plain": [
       "<Figure size 432x288 with 1 Axes>"
      ]
     },
     "metadata": {
      "needs_background": "light"
     },
     "output_type": "display_data"
    }
   ],
   "source": [
    "\n",
    "\"\"\"Part (b)\"\"\"\n",
    "import pandas as pd\n",
    "import matplotlib.pyplot as plt\n",
    "import numpy as np\n",
    "\n",
    "df = pd.read_csv('landslide_data3_miss.csv')\n",
    "df = df.dropna(subset=['stationid'])\n",
    "\n",
    "df2 = pd.read_csv('landslide_data3_original.csv')\n",
    "\n",
    "df = df.interpolate(method = 'linear')\n",
    "    \n",
    "def create_database(data):\n",
    "    mean_ = data.mean()\n",
    "    med_ = data.median()\n",
    "    mode_ = data.mode(); mode_ = mode_.iloc[0, 2:]\n",
    "    std_ = data.std()\n",
    "    statistical_data = pd.DataFrame({'Mean': mean_, 'Median': med_, 'Mode': mode_, 'Std': std_})\n",
    "    return statistical_data\n",
    "\n",
    "data1 = create_database(df); data2 = create_database(df2)\n",
    "print(data1); print('\\n\\n'); print(data2)\n",
    "\n",
    "def RMSE_val(att):\n",
    "    Na = 0\n",
    "    sq_sum = 0;\n",
    "    for i in df.index:\n",
    "        if(df.loc[i, att] - df2.loc[i, att] != 0):\n",
    "            Na += 1;\n",
    "            sq_sum += pow(df.loc[i, att] - df2.loc[i, att], 2)\n",
    "    return pow(sq_sum/Na, 0.5)\n",
    "\n",
    "RMSE_att = ['temperature', 'humidity', 'pressure', 'rain', 'lightavgw/o0', 'lightmax', 'moisture']\n",
    "ind_dict = dict()\n",
    "for att in RMSE_att:\n",
    "    ind_dict[att] = RMSE_val(att)\n",
    "\n",
    "plt.plot(ind_dict.keys(), ind_dict.values(), color = 'r')\n",
    "plt.xticks(rotation = 60)\n",
    "plt.show()\n",
    "\n",
    "'''Question 5'''\n",
    "temp_qurt = df['temperature'].quantile(q = [0.25, 0.50,  0.75])\n",
    "rain_qurt = df['rain'].quantile(q = [0.25, 0.50, 0.75])\n",
    "# creating dictionary to store outliers of temperature and rain attribute\n",
    "temp_outliers = dict()\n",
    "rain_outliers = dict()\n",
    "print(rain_qurt)\n",
    "# iterating through the attribute's series to store temperature and rain attribute's outliers\n",
    "for i in df['temperature'].index:\n",
    "    val = df['temperature'][i]\n",
    "    if(val < (temp_qurt[0.25] - 1.5*(temp_qurt[0.75] - temp_qurt[0.25])) or val > (temp_qurt[0.75] + 1.5*(temp_qurt[0.75] - temp_qurt[0.25]))):\n",
    "        temp_outliers[i] = val\n",
    "for i in df['rain'].index:\n",
    "    val = df['rain'][i]\n",
    "    if(val < (rain_qurt[0.25] - 1.5*(rain_qurt[0.75] - rain_qurt[0.25])) or val > (rain_qurt[0.75] + 1.5*(rain_qurt[0.75] - rain_qurt[0.25]))):\n",
    "        rain_outliers[i] = val\n",
    "\n",
    "# printing the collected dictionary data\n",
    "print(\"\\nTemperature Outliers are : \\n\");print(\"Total outliers : \", len(temp_outliers.values()));print(temp_outliers)\n",
    "print(\"\\nRain Outliers are : \\n\");print(\"Total outliers : \", len(rain_outliers.values())); print(rain_outliers)\n",
    "\n",
    "plt.boxplot(df['temperature'])\n",
    "plt.show()\n",
    "\n",
    "plt.boxplot(df['rain'])\n",
    "plt.show()\n",
    "\n",
    "for i in df['temperature'].index:\n",
    "    val = df.loc[i, 'temperature']\n",
    "    if(val < (temp_qurt[0.25] - 1.5*(temp_qurt[0.75] - temp_qurt[0.25])) or val > (temp_qurt[0.75] + 1.5*(temp_qurt[0.75] - temp_qurt[0.25]))):\n",
    "        df.loc[i, 'temperature'] = temp_qurt[0.50]\n",
    "for i in df['rain'].index:\n",
    "    val = df.loc[i, 'rain']\n",
    "    if(val < (rain_qurt[0.25] - 1.5*(rain_qurt[0.75] - rain_qurt[0.25])) or val > (rain_qurt[0.75] + 1.5*(rain_qurt[0.75] - rain_qurt[0.25]))):\n",
    "        df.loc[i, 'rain'] = rain_qurt[0.50]\n",
    "        \n",
    "plt.boxplot(df['temperature'])\n",
    "plt.show()\n",
    "\n",
    "plt.boxplot(df['rain'])\n",
    "plt.show()\n"
   ]
  },
  {
   "cell_type": "code",
   "execution_count": 14,
   "id": "e860e335",
   "metadata": {},
   "outputs": [
    {
     "name": "stdout",
     "output_type": "stream",
     "text": [
      "0.25     0.00000\n",
      "0.50    19.40625\n",
      "0.75    64.68750\n",
      "Name: rain, dtype: float64\n",
      "\n",
      "Temperature Outliers are : \n",
      "\n",
      "0\n",
      "[]\n",
      "\n",
      "Rain Outliers are : \n",
      "\n",
      "191\n",
      "[162.0, 173.25, 173.25, 183.375, 187.5, 191.25, 191.25, 202.5, 202.5, 207.0, 207.0, 209.25, 211.5, 211.5, 213.75, 213.75, 213.75, 218.25, 222.75, 225.0, 234.0, 240.75, 243.0, 247.5, 254.25, 263.25, 272.25, 273.375, 274.5, 277.875, 281.25, 281.25, 283.5, 285.75, 285.75, 308.25, 308.25, 308.25, 315.0, 321.75, 324.0, 326.25, 330.75, 333.0, 337.5, 339.75, 344.25, 348.75, 353.25, 353.25, 357.75, 357.75, 359.25, 360.0, 366.75, 373.5, 382.5, 398.25, 400.5, 402.75, 405.0, 405.0, 409.5, 419.625, 420.75, 427.5, 434.25, 438.75, 438.75, 438.75, 441.0, 443.25, 445.125, 454.5, 459.0, 463.5, 468.0, 468.0, 474.75, 490.5, 492.75, 513.0, 524.25, 531.0, 533.25, 546.75, 551.25, 560.25, 561.375, 569.25, 576.0, 580.5, 582.75, 587.25, 589.5, 594.0, 594.0, 605.25, 607.5, 621.0, 621.0, 623.25, 625.5, 630.0, 632.25, 634.5, 637.5, 652.5, 661.5, 666.0, 677.25, 679.5, 681.75, 684.0, 688.5, 703.125, 731.25, 731.25, 742.5, 765.0, 774.0, 774.0, 776.25, 778.5, 783.0, 794.25, 796.5, 816.75, 816.75, 817.875, 864.0, 868.5, 898.875, 918.0, 920.25, 936.0, 949.5, 951.75, 954.0, 963.0, 987.75, 1039.5, 1044.0, 1062.0, 1071.0, 1075.5, 1091.25, 1095.75, 1107.0, 1125.0, 1129.5, 1140.75, 1161.0, 1167.75, 1172.25, 1183.5, 1215.0, 1226.25, 1260.0, 1300.5, 1311.75, 1329.75, 1341.0, 1365.75, 1426.5, 1456.875, 1536.75, 1554.75, 1559.25, 1611.0, 1617.75, 1689.75, 1710.0, 1761.75, 1795.5, 1804.5, 1809.0, 1818.0, 1818.0, 1926.0, 1946.25, 1962.0, 1964.25, 2009.25, 2022.75, 2029.5, 2171.25, 2340.0, 2414.25, 2427.75, 2470.5]\n"
     ]
    }
   ],
   "source": [
    "'''Question 5'''\n",
    "temp_qurt = df['temperature'].quantile(q = [0.25, 0.50,  0.75])\n",
    "rain_qurt = df['rain'].quantile(q = [0.25, 0.50, 0.75])\n",
    "print(rain_qurt)\n",
    "temp_outliers = list()\n",
    "rain_outliers = list()\n",
    "for val in df['temperature'].values:\n",
    "    if(val < (temp_qurt[0.25] - 1.5*(temp_qurt[0.75] - temp_qurt[0.25])) or val > (temp_qurt[0.75] + 1.5*(temp_qurt[0.75] - temp_qurt[0.25]))):\n",
    "        temp_outliers.append(val)\n",
    "for val in df['rain'].values:\n",
    "    if(val < (rain_qurt[0.25] - 1.5*(rain_qurt[0.75] - rain_qurt[0.25])) or val > (rain_qurt[0.75] + 1.5*(rain_qurt[0.75] - rain_qurt[0.25]))):\n",
    "        rain_outliers.append(val)\n",
    "temp_outliers.sort()\n",
    "rain_outliers.sort()\n",
    "print(\"\\nTemperature Outliers are : \\n\");print(len(temp_outliers)); print(temp_outliers)\n",
    "print(\"\\nRain Outliers are : \\n\");print(len(rain_outliers)); print(rain_outliers)"
   ]
  },
  {
   "cell_type": "code",
   "execution_count": 15,
   "id": "f522caa7",
   "metadata": {
    "scrolled": false
   },
   "outputs": [
    {
     "data": {
      "image/png": "[encoded data removed]",
      "text/plain": [
       "<Figure size 432x288 with 1 Axes>"
      ]
     },
     "metadata": {
      "needs_background": "light"
     },
     "output_type": "display_data"
    },
    {
     "data": {
      "image/png": "[encoded data removed]",
      "text/plain": [
       "<Figure size 432x288 with 1 Axes>"
      ]
     },
     "metadata": {
      "needs_background": "light"
     },
     "output_type": "display_data"
    }
   ],
   "source": [
    "plt.boxplot(df['temperature'])\n",
    "plt.show()\n",
    "\n",
    "plt.boxplot(df['rain'])\n",
    "plt.show()"
   ]
  },
  {
   "cell_type": "code",
   "execution_count": 35,
   "id": "03b7501a",
   "metadata": {},
   "outputs": [
    {
     "data": {
      "text/plain": [
       "25.46875"
      ]
     },
     "execution_count": 35,
     "metadata": {},
     "output_type": "execute_result"
    }
   ],
   "source": [
    "df['temperature'][0]"
   ]
  },
  {
   "cell_type": "code",
   "execution_count": null,
   "id": "daadeb91",
   "metadata": {},
   "outputs": [],
   "source": [
    "'''Question 4'''\n",
    "\"\"\"part b duplicate\"\"\"\n",
    "import pandas as pd\n",
    "import matplotlib.pyplot as plt\n",
    "import numpy as np\n",
    "\n",
    "df = pd.read_csv('landslide_data3_miss.csv')\n",
    "df = df.dropna(subset=['stationid'])\n",
    "df2 = pd.read_csv('landslide_data3_original.csv')\n",
    "\n",
    "to_interpolate = ['temperature', 'humidity', 'pressure', 'rain', 'lightavgw/o0', 'lightmax', 'moisture']\n",
    "for att in to_interpolate:\n",
    "    df[att] = df[att].interpolate(method = 'linear')\n",
    "    \n",
    "def create_database(data):\n",
    "    mean_ = data.mean()\n",
    "    med_ = data.median()\n",
    "    mode_ = data.mode(); mode_ = mode_.iloc[0, 2:]\n",
    "    std_ = data.std()\n",
    "    statistical_data = pd.DataFrame({'Mean': mean_, 'Median': med_, 'Mode': mode_, 'Std': std_})\n",
    "    return statistical_data\n",
    "\n",
    "data1 = create_database(df); data2 = create_database(df2)\n",
    "print(data1); print('\\n\\n'); print(data2)\n",
    "\n",
    "def RMSE_val(att):\n",
    "    Na = 0\n",
    "    ssum = 0;\n",
    "    for i in df.index:\n",
    "        if(df.loc[i, att] - df2.loc[i, att] != 0):\n",
    "            Na += 1;\n",
    "            ssum += pow(df.loc[i, att] - df2.loc[i, att], 2)\n",
    "    return pow(ssum/Na, 0.5)\n",
    "\n",
    "RMSE_att = ['temperature', 'humidity', 'pressure', 'rain', 'lightavgw/o0', 'lightmax', 'moisture']\n",
    "val_list = []\n",
    "for att in RMSE_att:\n",
    "    val_list.append(RMSE_val(att))\n",
    "\n",
    "plt.plot(RMSE_att, val_list)\n",
    "plt.xticks(rotation = 60)\n",
    "plt.show()"
   ]
  },
  {
   "cell_type": "code",
   "execution_count": 21,
   "id": "f81ffc4c",
   "metadata": {},
   "outputs": [
    {
     "data": {
      "text/plain": [
       "0.03779697624190065"
      ]
     },
     "execution_count": 21,
     "metadata": {},
     "output_type": "execute_result"
    }
   ],
   "source": [
    "35/926"
   ]
  },
  {
   "cell_type": "code",
   "execution_count": 22,
   "id": "a925aa6d",
   "metadata": {},
   "outputs": [
    {
     "data": {
      "text/plain": [
       "3.7796976241900646"
      ]
     },
     "execution_count": 22,
     "metadata": {},
     "output_type": "execute_result"
    }
   ],
   "source": [
    "0.03779697624190065*100"
   ]
  },
  {
   "cell_type": "code",
   "execution_count": null,
   "id": "44e5a24c",
   "metadata": {},
   "outputs": [],
   "source": []
  }
 ],
 "metadata": {
  "interpreter": {
   "hash": "63fd5069d213b44bf678585dea6b12cceca9941eaf7f819626cde1f2670de90d"
  },
  "kernelspec": {
   "display_name": "Python 3",
   "language": "python",
   "name": "python3"
  },
  "language_info": {
   "codemirror_mode": {
    "name": "ipython",
    "version": 3
   },
   "file_extension": ".py",
   "mimetype": "text/x-python",
   "name": "python",
   "nbconvert_exporter": "python",
   "pygments_lexer": "ipython3",
   "version": "3.9.2"
  }
 },
 "nbformat": 4,
 "nbformat_minor": 5
}
